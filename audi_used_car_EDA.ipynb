{
  "nbformat": 4,
  "nbformat_minor": 0,
  "metadata": {
    "colab": {
      "name": "audi_used_car_EDA.ipynb",
      "provenance": [],
      "mount_file_id": "1TZsPVcc3jAfGAW6L8uPJDCYEOLGBKkve",
      "authorship_tag": "ABX9TyOq1vdwDGkLtkY8/VrLif1Q",
      "include_colab_link": true
    },
    "kernelspec": {
      "name": "python3",
      "display_name": "Python 3"
    },
    "language_info": {
      "name": "python"
    }
  },
  "cells": [
    {
      "cell_type": "markdown",
      "metadata": {
        "id": "view-in-github",
        "colab_type": "text"
      },
      "source": [
        "<a href=\"https://colab.research.google.com/github/NahimaTrisha/Data-visualization-with-Python/blob/main/audi_used_car_EDA.ipynb\" target=\"_parent\"><img src=\"https://colab.research.google.com/assets/colab-badge.svg\" alt=\"Open In Colab\"/></a>"
      ]
    },
    {
      "cell_type": "code",
      "metadata": {
        "id": "g8SUOq4C3cwZ"
      },
      "source": [
        "import pandas as pd\n",
        "import numpy as np\n",
        "import matplotlib.pyplot as plt\n",
        "import seaborn as sns"
      ],
      "execution_count": 254,
      "outputs": []
    },
    {
      "cell_type": "code",
      "metadata": {
        "colab": {
          "base_uri": "https://localhost:8080/",
          "height": 195
        },
        "id": "sxSkxreY3zcX",
        "outputId": "b5a43141-728b-4080-f9b7-2014a49fd913"
      },
      "source": [
        "df=pd.read_csv('/content/drive/MyDrive/Dataset/audi.csv')\n",
        "df.head()"
      ],
      "execution_count": 255,
      "outputs": [
        {
          "output_type": "execute_result",
          "data": {
            "text/html": [
              "<div>\n",
              "<style scoped>\n",
              "    .dataframe tbody tr th:only-of-type {\n",
              "        vertical-align: middle;\n",
              "    }\n",
              "\n",
              "    .dataframe tbody tr th {\n",
              "        vertical-align: top;\n",
              "    }\n",
              "\n",
              "    .dataframe thead th {\n",
              "        text-align: right;\n",
              "    }\n",
              "</style>\n",
              "<table border=\"1\" class=\"dataframe\">\n",
              "  <thead>\n",
              "    <tr style=\"text-align: right;\">\n",
              "      <th></th>\n",
              "      <th>model</th>\n",
              "      <th>year</th>\n",
              "      <th>price</th>\n",
              "      <th>transmission</th>\n",
              "      <th>mileage</th>\n",
              "      <th>fuelType</th>\n",
              "      <th>mpg</th>\n",
              "      <th>engineSize</th>\n",
              "    </tr>\n",
              "  </thead>\n",
              "  <tbody>\n",
              "    <tr>\n",
              "      <th>0</th>\n",
              "      <td>A1</td>\n",
              "      <td>2017</td>\n",
              "      <td>12500</td>\n",
              "      <td>Manual</td>\n",
              "      <td>15735</td>\n",
              "      <td>Petrol</td>\n",
              "      <td>55.4</td>\n",
              "      <td>1.4</td>\n",
              "    </tr>\n",
              "    <tr>\n",
              "      <th>1</th>\n",
              "      <td>A6</td>\n",
              "      <td>2016</td>\n",
              "      <td>16500</td>\n",
              "      <td>Automatic</td>\n",
              "      <td>36203</td>\n",
              "      <td>Diesel</td>\n",
              "      <td>64.2</td>\n",
              "      <td>2.0</td>\n",
              "    </tr>\n",
              "    <tr>\n",
              "      <th>2</th>\n",
              "      <td>A1</td>\n",
              "      <td>2016</td>\n",
              "      <td>11000</td>\n",
              "      <td>Manual</td>\n",
              "      <td>29946</td>\n",
              "      <td>Petrol</td>\n",
              "      <td>55.4</td>\n",
              "      <td>1.4</td>\n",
              "    </tr>\n",
              "    <tr>\n",
              "      <th>3</th>\n",
              "      <td>A4</td>\n",
              "      <td>2017</td>\n",
              "      <td>16800</td>\n",
              "      <td>Automatic</td>\n",
              "      <td>25952</td>\n",
              "      <td>Diesel</td>\n",
              "      <td>67.3</td>\n",
              "      <td>2.0</td>\n",
              "    </tr>\n",
              "    <tr>\n",
              "      <th>4</th>\n",
              "      <td>A3</td>\n",
              "      <td>2019</td>\n",
              "      <td>17300</td>\n",
              "      <td>Manual</td>\n",
              "      <td>1998</td>\n",
              "      <td>Petrol</td>\n",
              "      <td>49.6</td>\n",
              "      <td>1.0</td>\n",
              "    </tr>\n",
              "  </tbody>\n",
              "</table>\n",
              "</div>"
            ],
            "text/plain": [
              "  model  year  price transmission  mileage fuelType   mpg  engineSize\n",
              "0    A1  2017  12500       Manual    15735   Petrol  55.4         1.4\n",
              "1    A6  2016  16500    Automatic    36203   Diesel  64.2         2.0\n",
              "2    A1  2016  11000       Manual    29946   Petrol  55.4         1.4\n",
              "3    A4  2017  16800    Automatic    25952   Diesel  67.3         2.0\n",
              "4    A3  2019  17300       Manual     1998   Petrol  49.6         1.0"
            ]
          },
          "metadata": {
            "tags": []
          },
          "execution_count": 255
        }
      ]
    },
    {
      "cell_type": "code",
      "metadata": {
        "colab": {
          "base_uri": "https://localhost:8080/"
        },
        "id": "Bt6q15hQ38El",
        "outputId": "c9b6550c-2ee9-4004-c3c6-4590d2fab2a4"
      },
      "source": [
        "df.info()"
      ],
      "execution_count": 256,
      "outputs": [
        {
          "output_type": "stream",
          "text": [
            "<class 'pandas.core.frame.DataFrame'>\n",
            "RangeIndex: 10668 entries, 0 to 10667\n",
            "Data columns (total 8 columns):\n",
            " #   Column        Non-Null Count  Dtype  \n",
            "---  ------        --------------  -----  \n",
            " 0   model         10668 non-null  object \n",
            " 1   year          10668 non-null  int64  \n",
            " 2   price         10668 non-null  int64  \n",
            " 3   transmission  10668 non-null  object \n",
            " 4   mileage       10668 non-null  int64  \n",
            " 5   fuelType      10668 non-null  object \n",
            " 6   mpg           10668 non-null  float64\n",
            " 7   engineSize    10668 non-null  float64\n",
            "dtypes: float64(2), int64(3), object(3)\n",
            "memory usage: 666.9+ KB\n"
          ],
          "name": "stdout"
        }
      ]
    },
    {
      "cell_type": "code",
      "metadata": {
        "colab": {
          "base_uri": "https://localhost:8080/"
        },
        "id": "jDQVFrEE4JzU",
        "outputId": "4203de25-3fa5-4a99-95cf-cc0957f96e2c"
      },
      "source": [
        "df.shape"
      ],
      "execution_count": 257,
      "outputs": [
        {
          "output_type": "execute_result",
          "data": {
            "text/plain": [
              "(10668, 8)"
            ]
          },
          "metadata": {
            "tags": []
          },
          "execution_count": 257
        }
      ]
    },
    {
      "cell_type": "code",
      "metadata": {
        "colab": {
          "base_uri": "https://localhost:8080/"
        },
        "id": "Zfg-15XC4Kch",
        "outputId": "3012218f-8ae3-4028-a18e-2195dbf4925f"
      },
      "source": [
        "df.isnull().sum()"
      ],
      "execution_count": 258,
      "outputs": [
        {
          "output_type": "execute_result",
          "data": {
            "text/plain": [
              "model           0\n",
              "year            0\n",
              "price           0\n",
              "transmission    0\n",
              "mileage         0\n",
              "fuelType        0\n",
              "mpg             0\n",
              "engineSize      0\n",
              "dtype: int64"
            ]
          },
          "metadata": {
            "tags": []
          },
          "execution_count": 258
        }
      ]
    },
    {
      "cell_type": "code",
      "metadata": {
        "colab": {
          "base_uri": "https://localhost:8080/"
        },
        "id": "ErcNy4Ba53w7",
        "outputId": "01d134cd-3d73-4c86-e7ee-fb4b65357ee8"
      },
      "source": [
        "df[\"year\"].value_counts()"
      ],
      "execution_count": 259,
      "outputs": [
        {
          "output_type": "execute_result",
          "data": {
            "text/plain": [
              "2019    3197\n",
              "2016    1964\n",
              "2017    1935\n",
              "2015     999\n",
              "2018     864\n",
              "2020     716\n",
              "2014     447\n",
              "2013     291\n",
              "2012      85\n",
              "2011      47\n",
              "2010      32\n",
              "2009      23\n",
              "2008      21\n",
              "2007      16\n",
              "2006       9\n",
              "2005       7\n",
              "2003       6\n",
              "2004       5\n",
              "2002       2\n",
              "1997       1\n",
              "1998       1\n",
              "Name: year, dtype: int64"
            ]
          },
          "metadata": {
            "tags": []
          },
          "execution_count": 259
        }
      ]
    },
    {
      "cell_type": "code",
      "metadata": {
        "colab": {
          "base_uri": "https://localhost:8080/"
        },
        "id": "bLZhhmQJ59v_",
        "outputId": "96b65b40-32aa-4942-978f-f105de89f88d"
      },
      "source": [
        "df[\"model\"].value_counts()"
      ],
      "execution_count": 260,
      "outputs": [
        {
          "output_type": "execute_result",
          "data": {
            "text/plain": [
              " A3     1929\n",
              " Q3     1417\n",
              " A4     1381\n",
              " A1     1347\n",
              " A5      882\n",
              " Q5      877\n",
              " Q2      822\n",
              " A6      748\n",
              " Q7      397\n",
              " TT      336\n",
              " A7      122\n",
              " A8      118\n",
              " Q8       69\n",
              " RS6      39\n",
              " RS3      33\n",
              " RS4      31\n",
              " RS5      29\n",
              " R8       28\n",
              " S3       18\n",
              " SQ5      16\n",
              " S4       12\n",
              " SQ7       8\n",
              " S8        4\n",
              " S5        3\n",
              " A2        1\n",
              " RS7       1\n",
              "Name: model, dtype: int64"
            ]
          },
          "metadata": {
            "tags": []
          },
          "execution_count": 260
        }
      ]
    },
    {
      "cell_type": "code",
      "metadata": {
        "colab": {
          "base_uri": "https://localhost:8080/"
        },
        "id": "Gl1HnGm76AB4",
        "outputId": "feeeb9d1-458b-4668-85e1-f8bb018e544b"
      },
      "source": [
        "df['transmission'].value_counts()"
      ],
      "execution_count": 261,
      "outputs": [
        {
          "output_type": "execute_result",
          "data": {
            "text/plain": [
              "Manual       4369\n",
              "Semi-Auto    3591\n",
              "Automatic    2708\n",
              "Name: transmission, dtype: int64"
            ]
          },
          "metadata": {
            "tags": []
          },
          "execution_count": 261
        }
      ]
    },
    {
      "cell_type": "code",
      "metadata": {
        "colab": {
          "base_uri": "https://localhost:8080/"
        },
        "id": "JGHMSR6T6QA0",
        "outputId": "092b267e-4268-47b1-b1ec-d051b91476f4"
      },
      "source": [
        "df['fuelType'].value_counts()"
      ],
      "execution_count": 262,
      "outputs": [
        {
          "output_type": "execute_result",
          "data": {
            "text/plain": [
              "Diesel    5577\n",
              "Petrol    5063\n",
              "Hybrid      28\n",
              "Name: fuelType, dtype: int64"
            ]
          },
          "metadata": {
            "tags": []
          },
          "execution_count": 262
        }
      ]
    },
    {
      "cell_type": "code",
      "metadata": {
        "colab": {
          "base_uri": "https://localhost:8080/",
          "height": 136
        },
        "id": "2sqZgxg76jFO",
        "outputId": "74895feb-55aa-474f-9039-aa28789af450"
      },
      "source": [
        "fuelType_count = df['fuelType'].value_counts()\n",
        "\n",
        "fuelType_count = pd.DataFrame(fuelType_count)\n",
        "\n",
        "fuelType_count = fuelType_count.reset_index()\n",
        "\n",
        "fuelType_count = fuelType_count.rename(columns={'index':'fuel_type', 'fuelType':'No_of_cars'})\n",
        "\n",
        "\n",
        "fuelType_count['% of cars'] = np.round(((fuelType_count['No_of_cars']/fuelType_count['No_of_cars'].sum())*100))\n",
        "display(fuelType_count)\n",
        "\n"
      ],
      "execution_count": 263,
      "outputs": [
        {
          "output_type": "display_data",
          "data": {
            "text/html": [
              "<div>\n",
              "<style scoped>\n",
              "    .dataframe tbody tr th:only-of-type {\n",
              "        vertical-align: middle;\n",
              "    }\n",
              "\n",
              "    .dataframe tbody tr th {\n",
              "        vertical-align: top;\n",
              "    }\n",
              "\n",
              "    .dataframe thead th {\n",
              "        text-align: right;\n",
              "    }\n",
              "</style>\n",
              "<table border=\"1\" class=\"dataframe\">\n",
              "  <thead>\n",
              "    <tr style=\"text-align: right;\">\n",
              "      <th></th>\n",
              "      <th>fuel_type</th>\n",
              "      <th>No_of_cars</th>\n",
              "      <th>% of cars</th>\n",
              "    </tr>\n",
              "  </thead>\n",
              "  <tbody>\n",
              "    <tr>\n",
              "      <th>0</th>\n",
              "      <td>Diesel</td>\n",
              "      <td>5577</td>\n",
              "      <td>52.0</td>\n",
              "    </tr>\n",
              "    <tr>\n",
              "      <th>1</th>\n",
              "      <td>Petrol</td>\n",
              "      <td>5063</td>\n",
              "      <td>47.0</td>\n",
              "    </tr>\n",
              "    <tr>\n",
              "      <th>2</th>\n",
              "      <td>Hybrid</td>\n",
              "      <td>28</td>\n",
              "      <td>0.0</td>\n",
              "    </tr>\n",
              "  </tbody>\n",
              "</table>\n",
              "</div>"
            ],
            "text/plain": [
              "  fuel_type  No_of_cars  % of cars\n",
              "0    Diesel        5577       52.0\n",
              "1    Petrol        5063       47.0\n",
              "2    Hybrid          28        0.0"
            ]
          },
          "metadata": {
            "tags": []
          }
        }
      ]
    },
    {
      "cell_type": "code",
      "metadata": {
        "colab": {
          "base_uri": "https://localhost:8080/",
          "height": 348
        },
        "id": "Wpp_Ef3c-7Yu",
        "outputId": "70e8de15-ff5d-4fa8-f0e8-28f2684e7078"
      },
      "source": [
        "plt.figure(figsize=(8,5))\n",
        "sns.barplot(x='fuel_type', y='No_of_cars', data=fuelType_count, color='green', alpha=0.75)\n",
        "plt.title(\"Number of cars present for each fuelType\")\n",
        "plt.xlabel(\"Type of fuel\")\n",
        "plt.ylabel(\"Number of cars\")\n",
        "plt.show()"
      ],
      "execution_count": 264,
      "outputs": [
        {
          "output_type": "display_data",
          "data": {
            "image/png": "[encoded data removed]",
            "text/plain": [
              "<Figure size 576x360 with 1 Axes>"
            ]
          },
          "metadata": {
            "tags": [],
            "needs_background": "light"
          }
        }
      ]
    },
    {
      "cell_type": "code",
      "metadata": {
        "colab": {
          "base_uri": "https://localhost:8080/",
          "height": 136
        },
        "id": "fyB9cbJl_Pq-",
        "outputId": "30e668f6-ad19-4fe5-a7d2-39bc125da6aa"
      },
      "source": [
        "transmission_count = df['transmission'].value_counts()\n",
        "\n",
        "transmission_count = pd.DataFrame(transmission_count)\n",
        "\n",
        "transmission_count = transmission_count.reset_index()\n",
        "\n",
        "transmission_count = transmission_count.rename(columns={'index':'transmission', 'transmission':'No_of_cars'})\n",
        "\n",
        "transmission_count['% of cars'] = np.round(((transmission_count['No_of_cars']/transmission_count['No_of_cars'].sum())*100), 2)\n",
        "display(transmission_count)"
      ],
      "execution_count": 265,
      "outputs": [
        {
          "output_type": "display_data",
          "data": {
            "text/html": [
              "<div>\n",
              "<style scoped>\n",
              "    .dataframe tbody tr th:only-of-type {\n",
              "        vertical-align: middle;\n",
              "    }\n",
              "\n",
              "    .dataframe tbody tr th {\n",
              "        vertical-align: top;\n",
              "    }\n",
              "\n",
              "    .dataframe thead th {\n",
              "        text-align: right;\n",
              "    }\n",
              "</style>\n",
              "<table border=\"1\" class=\"dataframe\">\n",
              "  <thead>\n",
              "    <tr style=\"text-align: right;\">\n",
              "      <th></th>\n",
              "      <th>transmission</th>\n",
              "      <th>No_of_cars</th>\n",
              "      <th>% of cars</th>\n",
              "    </tr>\n",
              "  </thead>\n",
              "  <tbody>\n",
              "    <tr>\n",
              "      <th>0</th>\n",
              "      <td>Manual</td>\n",
              "      <td>4369</td>\n",
              "      <td>40.95</td>\n",
              "    </tr>\n",
              "    <tr>\n",
              "      <th>1</th>\n",
              "      <td>Semi-Auto</td>\n",
              "      <td>3591</td>\n",
              "      <td>33.66</td>\n",
              "    </tr>\n",
              "    <tr>\n",
              "      <th>2</th>\n",
              "      <td>Automatic</td>\n",
              "      <td>2708</td>\n",
              "      <td>25.38</td>\n",
              "    </tr>\n",
              "  </tbody>\n",
              "</table>\n",
              "</div>"
            ],
            "text/plain": [
              "  transmission  No_of_cars  % of cars\n",
              "0       Manual        4369      40.95\n",
              "1    Semi-Auto        3591      33.66\n",
              "2    Automatic        2708      25.38"
            ]
          },
          "metadata": {
            "tags": []
          }
        }
      ]
    },
    {
      "cell_type": "code",
      "metadata": {
        "colab": {
          "base_uri": "https://localhost:8080/",
          "height": 348
        },
        "id": "I2hvxO8U_m1-",
        "outputId": "b3be397f-05c1-4103-da2d-e82b35e3239d"
      },
      "source": [
        "plt.figure(figsize=(8,5))\n",
        "sns.barplot(x='transmission', y='No_of_cars', data=transmission_count, color='red', alpha=0.75)\n",
        "plt.title(\"Number of cars present for each transmission type\")\n",
        "plt.xlabel(\"Type of transmission\")\n",
        "plt.ylabel(\"Number of cars\")\n",
        "plt.show()"
      ],
      "execution_count": 266,
      "outputs": [
        {
          "output_type": "display_data",
          "data": {
            "image/png": "[encoded data removed]",
            "text/plain": [
              "<Figure size 576x360 with 1 Axes>"
            ]
          },
          "metadata": {
            "tags": [],
            "needs_background": "light"
          }
        }
      ]
    },
    {
      "cell_type": "code",
      "metadata": {
        "colab": {
          "base_uri": "https://localhost:8080/",
          "height": 817
        },
        "id": "AI8vQWZh_z9v",
        "outputId": "2dfa91ac-bf0a-4df7-967d-5781c0c59dcb"
      },
      "source": [
        "model_count = df['model'].value_counts()\n",
        "\n",
        "model_count = pd.DataFrame(model_count)\n",
        "\n",
        "model_count = model_count.reset_index()\n",
        "\n",
        "model_count = model_count.rename(columns={'index':'model', 'model':'No_of_cars'})\n",
        "\n",
        "model_count['% of cars'] = np.round(((model_count['No_of_cars']/model_count['No_of_cars'].sum())*100), 2)\n",
        "display(model_count)"
      ],
      "execution_count": 267,
      "outputs": [
        {
          "output_type": "display_data",
          "data": {
            "text/html": [
              "<div>\n",
              "<style scoped>\n",
              "    .dataframe tbody tr th:only-of-type {\n",
              "        vertical-align: middle;\n",
              "    }\n",
              "\n",
              "    .dataframe tbody tr th {\n",
              "        vertical-align: top;\n",
              "    }\n",
              "\n",
              "    .dataframe thead th {\n",
              "        text-align: right;\n",
              "    }\n",
              "</style>\n",
              "<table border=\"1\" class=\"dataframe\">\n",
              "  <thead>\n",
              "    <tr style=\"text-align: right;\">\n",
              "      <th></th>\n",
              "      <th>model</th>\n",
              "      <th>No_of_cars</th>\n",
              "      <th>% of cars</th>\n",
              "    </tr>\n",
              "  </thead>\n",
              "  <tbody>\n",
              "    <tr>\n",
              "      <th>0</th>\n",
              "      <td>A3</td>\n",
              "      <td>1929</td>\n",
              "      <td>18.08</td>\n",
              "    </tr>\n",
              "    <tr>\n",
              "      <th>1</th>\n",
              "      <td>Q3</td>\n",
              "      <td>1417</td>\n",
              "      <td>13.28</td>\n",
              "    </tr>\n",
              "    <tr>\n",
              "      <th>2</th>\n",
              "      <td>A4</td>\n",
              "      <td>1381</td>\n",
              "      <td>12.95</td>\n",
              "    </tr>\n",
              "    <tr>\n",
              "      <th>3</th>\n",
              "      <td>A1</td>\n",
              "      <td>1347</td>\n",
              "      <td>12.63</td>\n",
              "    </tr>\n",
              "    <tr>\n",
              "      <th>4</th>\n",
              "      <td>A5</td>\n",
              "      <td>882</td>\n",
              "      <td>8.27</td>\n",
              "    </tr>\n",
              "    <tr>\n",
              "      <th>5</th>\n",
              "      <td>Q5</td>\n",
              "      <td>877</td>\n",
              "      <td>8.22</td>\n",
              "    </tr>\n",
              "    <tr>\n",
              "      <th>6</th>\n",
              "      <td>Q2</td>\n",
              "      <td>822</td>\n",
              "      <td>7.71</td>\n",
              "    </tr>\n",
              "    <tr>\n",
              "      <th>7</th>\n",
              "      <td>A6</td>\n",
              "      <td>748</td>\n",
              "      <td>7.01</td>\n",
              "    </tr>\n",
              "    <tr>\n",
              "      <th>8</th>\n",
              "      <td>Q7</td>\n",
              "      <td>397</td>\n",
              "      <td>3.72</td>\n",
              "    </tr>\n",
              "    <tr>\n",
              "      <th>9</th>\n",
              "      <td>TT</td>\n",
              "      <td>336</td>\n",
              "      <td>3.15</td>\n",
              "    </tr>\n",
              "    <tr>\n",
              "      <th>10</th>\n",
              "      <td>A7</td>\n",
              "      <td>122</td>\n",
              "      <td>1.14</td>\n",
              "    </tr>\n",
              "    <tr>\n",
              "      <th>11</th>\n",
              "      <td>A8</td>\n",
              "      <td>118</td>\n",
              "      <td>1.11</td>\n",
              "    </tr>\n",
              "    <tr>\n",
              "      <th>12</th>\n",
              "      <td>Q8</td>\n",
              "      <td>69</td>\n",
              "      <td>0.65</td>\n",
              "    </tr>\n",
              "    <tr>\n",
              "      <th>13</th>\n",
              "      <td>RS6</td>\n",
              "      <td>39</td>\n",
              "      <td>0.37</td>\n",
              "    </tr>\n",
              "    <tr>\n",
              "      <th>14</th>\n",
              "      <td>RS3</td>\n",
              "      <td>33</td>\n",
              "      <td>0.31</td>\n",
              "    </tr>\n",
              "    <tr>\n",
              "      <th>15</th>\n",
              "      <td>RS4</td>\n",
              "      <td>31</td>\n",
              "      <td>0.29</td>\n",
              "    </tr>\n",
              "    <tr>\n",
              "      <th>16</th>\n",
              "      <td>RS5</td>\n",
              "      <td>29</td>\n",
              "      <td>0.27</td>\n",
              "    </tr>\n",
              "    <tr>\n",
              "      <th>17</th>\n",
              "      <td>R8</td>\n",
              "      <td>28</td>\n",
              "      <td>0.26</td>\n",
              "    </tr>\n",
              "    <tr>\n",
              "      <th>18</th>\n",
              "      <td>S3</td>\n",
              "      <td>18</td>\n",
              "      <td>0.17</td>\n",
              "    </tr>\n",
              "    <tr>\n",
              "      <th>19</th>\n",
              "      <td>SQ5</td>\n",
              "      <td>16</td>\n",
              "      <td>0.15</td>\n",
              "    </tr>\n",
              "    <tr>\n",
              "      <th>20</th>\n",
              "      <td>S4</td>\n",
              "      <td>12</td>\n",
              "      <td>0.11</td>\n",
              "    </tr>\n",
              "    <tr>\n",
              "      <th>21</th>\n",
              "      <td>SQ7</td>\n",
              "      <td>8</td>\n",
              "      <td>0.07</td>\n",
              "    </tr>\n",
              "    <tr>\n",
              "      <th>22</th>\n",
              "      <td>S8</td>\n",
              "      <td>4</td>\n",
              "      <td>0.04</td>\n",
              "    </tr>\n",
              "    <tr>\n",
              "      <th>23</th>\n",
              "      <td>S5</td>\n",
              "      <td>3</td>\n",
              "      <td>0.03</td>\n",
              "    </tr>\n",
              "    <tr>\n",
              "      <th>24</th>\n",
              "      <td>A2</td>\n",
              "      <td>1</td>\n",
              "      <td>0.01</td>\n",
              "    </tr>\n",
              "    <tr>\n",
              "      <th>25</th>\n",
              "      <td>RS7</td>\n",
              "      <td>1</td>\n",
              "      <td>0.01</td>\n",
              "    </tr>\n",
              "  </tbody>\n",
              "</table>\n",
              "</div>"
            ],
            "text/plain": [
              "   model  No_of_cars  % of cars\n",
              "0     A3        1929      18.08\n",
              "1     Q3        1417      13.28\n",
              "2     A4        1381      12.95\n",
              "3     A1        1347      12.63\n",
              "4     A5         882       8.27\n",
              "5     Q5         877       8.22\n",
              "6     Q2         822       7.71\n",
              "7     A6         748       7.01\n",
              "8     Q7         397       3.72\n",
              "9     TT         336       3.15\n",
              "10    A7         122       1.14\n",
              "11    A8         118       1.11\n",
              "12    Q8          69       0.65\n",
              "13   RS6          39       0.37\n",
              "14   RS3          33       0.31\n",
              "15   RS4          31       0.29\n",
              "16   RS5          29       0.27\n",
              "17    R8          28       0.26\n",
              "18    S3          18       0.17\n",
              "19   SQ5          16       0.15\n",
              "20    S4          12       0.11\n",
              "21   SQ7           8       0.07\n",
              "22    S8           4       0.04\n",
              "23    S5           3       0.03\n",
              "24    A2           1       0.01\n",
              "25   RS7           1       0.01"
            ]
          },
          "metadata": {
            "tags": []
          }
        }
      ]
    },
    {
      "cell_type": "code",
      "metadata": {
        "colab": {
          "base_uri": "https://localhost:8080/",
          "height": 360
        },
        "id": "UhC5YwYk_7F4",
        "outputId": "d3a6804e-503c-428e-86a4-2ead8f1f0ad5"
      },
      "source": [
        "plt.figure(figsize=(10,5))\n",
        "sns.barplot(x='model', y='No_of_cars', data=model_count, color='blue', alpha=0.75)\n",
        "plt.title(\"Number of cars present for each model\")\n",
        "plt.xlabel(\"Audi car models\")\n",
        "plt.ylabel(\"Number of cars\")\n",
        "plt.xticks(rotation=90)\n",
        "plt.show()"
      ],
      "execution_count": 268,
      "outputs": [
        {
          "output_type": "display_data",
          "data": {
            "image/png": "[encoded data removed]",
            "text/plain": [
              "<Figure size 720x360 with 1 Axes>"
            ]
          },
          "metadata": {
            "tags": [],
            "needs_background": "light"
          }
        }
      ]
    },
    {
      "cell_type": "code",
      "metadata": {
        "colab": {
          "base_uri": "https://localhost:8080/",
          "height": 669
        },
        "id": "5QrxNTLF6e0e",
        "outputId": "22667ffc-8647-4572-bceb-a86b1fc301a3"
      },
      "source": [
        "year_count = df['year'].value_counts()\n",
        "\n",
        "year_count = pd.DataFrame(year_count)\n",
        "\n",
        "year_count = year_count.reset_index()\n",
        "\n",
        "year_count = year_count.rename(columns={'index':'year', 'year':'No_of_cars'})\n",
        "\n",
        "year_count['% of cars'] = np.round(((year_count['No_of_cars']/year_count['No_of_cars'].sum())*100), 2)\n",
        "display(year_count)"
      ],
      "execution_count": 269,
      "outputs": [
        {
          "output_type": "display_data",
          "data": {
            "text/html": [
              "<div>\n",
              "<style scoped>\n",
              "    .dataframe tbody tr th:only-of-type {\n",
              "        vertical-align: middle;\n",
              "    }\n",
              "\n",
              "    .dataframe tbody tr th {\n",
              "        vertical-align: top;\n",
              "    }\n",
              "\n",
              "    .dataframe thead th {\n",
              "        text-align: right;\n",
              "    }\n",
              "</style>\n",
              "<table border=\"1\" class=\"dataframe\">\n",
              "  <thead>\n",
              "    <tr style=\"text-align: right;\">\n",
              "      <th></th>\n",
              "      <th>year</th>\n",
              "      <th>No_of_cars</th>\n",
              "      <th>% of cars</th>\n",
              "    </tr>\n",
              "  </thead>\n",
              "  <tbody>\n",
              "    <tr>\n",
              "      <th>0</th>\n",
              "      <td>2019</td>\n",
              "      <td>3197</td>\n",
              "      <td>29.97</td>\n",
              "    </tr>\n",
              "    <tr>\n",
              "      <th>1</th>\n",
              "      <td>2016</td>\n",
              "      <td>1964</td>\n",
              "      <td>18.41</td>\n",
              "    </tr>\n",
              "    <tr>\n",
              "      <th>2</th>\n",
              "      <td>2017</td>\n",
              "      <td>1935</td>\n",
              "      <td>18.14</td>\n",
              "    </tr>\n",
              "    <tr>\n",
              "      <th>3</th>\n",
              "      <td>2015</td>\n",
              "      <td>999</td>\n",
              "      <td>9.36</td>\n",
              "    </tr>\n",
              "    <tr>\n",
              "      <th>4</th>\n",
              "      <td>2018</td>\n",
              "      <td>864</td>\n",
              "      <td>8.10</td>\n",
              "    </tr>\n",
              "    <tr>\n",
              "      <th>5</th>\n",
              "      <td>2020</td>\n",
              "      <td>716</td>\n",
              "      <td>6.71</td>\n",
              "    </tr>\n",
              "    <tr>\n",
              "      <th>6</th>\n",
              "      <td>2014</td>\n",
              "      <td>447</td>\n",
              "      <td>4.19</td>\n",
              "    </tr>\n",
              "    <tr>\n",
              "      <th>7</th>\n",
              "      <td>2013</td>\n",
              "      <td>291</td>\n",
              "      <td>2.73</td>\n",
              "    </tr>\n",
              "    <tr>\n",
              "      <th>8</th>\n",
              "      <td>2012</td>\n",
              "      <td>85</td>\n",
              "      <td>0.80</td>\n",
              "    </tr>\n",
              "    <tr>\n",
              "      <th>9</th>\n",
              "      <td>2011</td>\n",
              "      <td>47</td>\n",
              "      <td>0.44</td>\n",
              "    </tr>\n",
              "    <tr>\n",
              "      <th>10</th>\n",
              "      <td>2010</td>\n",
              "      <td>32</td>\n",
              "      <td>0.30</td>\n",
              "    </tr>\n",
              "    <tr>\n",
              "      <th>11</th>\n",
              "      <td>2009</td>\n",
              "      <td>23</td>\n",
              "      <td>0.22</td>\n",
              "    </tr>\n",
              "    <tr>\n",
              "      <th>12</th>\n",
              "      <td>2008</td>\n",
              "      <td>21</td>\n",
              "      <td>0.20</td>\n",
              "    </tr>\n",
              "    <tr>\n",
              "      <th>13</th>\n",
              "      <td>2007</td>\n",
              "      <td>16</td>\n",
              "      <td>0.15</td>\n",
              "    </tr>\n",
              "    <tr>\n",
              "      <th>14</th>\n",
              "      <td>2006</td>\n",
              "      <td>9</td>\n",
              "      <td>0.08</td>\n",
              "    </tr>\n",
              "    <tr>\n",
              "      <th>15</th>\n",
              "      <td>2005</td>\n",
              "      <td>7</td>\n",
              "      <td>0.07</td>\n",
              "    </tr>\n",
              "    <tr>\n",
              "      <th>16</th>\n",
              "      <td>2003</td>\n",
              "      <td>6</td>\n",
              "      <td>0.06</td>\n",
              "    </tr>\n",
              "    <tr>\n",
              "      <th>17</th>\n",
              "      <td>2004</td>\n",
              "      <td>5</td>\n",
              "      <td>0.05</td>\n",
              "    </tr>\n",
              "    <tr>\n",
              "      <th>18</th>\n",
              "      <td>2002</td>\n",
              "      <td>2</td>\n",
              "      <td>0.02</td>\n",
              "    </tr>\n",
              "    <tr>\n",
              "      <th>19</th>\n",
              "      <td>1997</td>\n",
              "      <td>1</td>\n",
              "      <td>0.01</td>\n",
              "    </tr>\n",
              "    <tr>\n",
              "      <th>20</th>\n",
              "      <td>1998</td>\n",
              "      <td>1</td>\n",
              "      <td>0.01</td>\n",
              "    </tr>\n",
              "  </tbody>\n",
              "</table>\n",
              "</div>"
            ],
            "text/plain": [
              "    year  No_of_cars  % of cars\n",
              "0   2019        3197      29.97\n",
              "1   2016        1964      18.41\n",
              "2   2017        1935      18.14\n",
              "3   2015         999       9.36\n",
              "4   2018         864       8.10\n",
              "5   2020         716       6.71\n",
              "6   2014         447       4.19\n",
              "7   2013         291       2.73\n",
              "8   2012          85       0.80\n",
              "9   2011          47       0.44\n",
              "10  2010          32       0.30\n",
              "11  2009          23       0.22\n",
              "12  2008          21       0.20\n",
              "13  2007          16       0.15\n",
              "14  2006           9       0.08\n",
              "15  2005           7       0.07\n",
              "16  2003           6       0.06\n",
              "17  2004           5       0.05\n",
              "18  2002           2       0.02\n",
              "19  1997           1       0.01\n",
              "20  1998           1       0.01"
            ]
          },
          "metadata": {
            "tags": []
          }
        }
      ]
    },
    {
      "cell_type": "code",
      "metadata": {
        "colab": {
          "base_uri": "https://localhost:8080/",
          "height": 361
        },
        "id": "sw9UpTPD6_Ym",
        "outputId": "902ae81b-cde4-4fee-baa9-17fa1f822525"
      },
      "source": [
        "plt.figure(figsize=(10,5))\n",
        "sns.barplot(x='year', y='No_of_cars', data=year_count, color='black', alpha=0.75)\n",
        "plt.title(\"Number of cars present for each year\")\n",
        "plt.xlabel(\"Audi car years\")\n",
        "plt.ylabel(\"Number of cars\")\n",
        "plt.xticks(rotation=90)\n",
        "plt.show()"
      ],
      "execution_count": 270,
      "outputs": [
        {
          "output_type": "display_data",
          "data": {
            "image/png": "[encoded data removed]",
            "text/plain": [
              "<Figure size 720x360 with 1 Axes>"
            ]
          },
          "metadata": {
            "tags": [],
            "needs_background": "light"
          }
        }
      ]
    },
    {
      "cell_type": "code",
      "metadata": {
        "colab": {
          "base_uri": "https://localhost:8080/",
          "height": 994
        },
        "id": "kGJCFDlUAgx9",
        "outputId": "0eb6944c-42a9-4a61-daff-6018b7ab3e5d"
      },
      "source": [
        "sns.set_context('paper')\n",
        "\n",
        "plt.figure(figsize=(18,13))\n",
        "\n",
        "plt.subplot(2,2,1)\n",
        "sns.barplot(x='model', y='% of cars', data=model_count, color='blue', alpha=0.75)\n",
        "plt.title(\"Number of cars present for each model\")\n",
        "plt.xlabel(\"Audi car models\")\n",
        "plt.ylabel(\"Percent of cars (%)\")\n",
        "plt.xticks(rotation=90)\n",
        "plt.yticks(np.arange(0,71,10).tolist())\n",
        "\n",
        "plt.subplot(2,2,2)\n",
        "sns.barplot(x='transmission', y='% of cars', data=transmission_count, color='orange')\n",
        "plt.title(\"Number of cars present for each transmission type\")\n",
        "plt.xlabel(\"Type of transmission\")\n",
        "plt.ylabel(\"Percent of cars (%)\")\n",
        "plt.yticks(np.arange(0,71,10).tolist())\n",
        "\n",
        "plt.subplot(2,2,3)\n",
        "sns.barplot(x='fuel_type', y='% of cars', data=fuelType_count, color='green', alpha=0.75)\n",
        "plt.title(\"Number of cars present for each fuelType\")\n",
        "plt.xlabel(\"Type of fuel\")\n",
        "plt.ylabel(\"Percent of cars (%)\")\n",
        "plt.yticks(np.arange(0,71,10).tolist())\n",
        "\n",
        "plt.subplot(2,2,4)\n",
        "sns.barplot(x='year', y='No_of_cars', data=year_count, color='black', alpha=0.75)\n",
        "plt.title(\"Number of cars present for each year\")\n",
        "plt.xlabel(\"Audi car years\")\n",
        "plt.ylabel(\"Number of cars\")\n",
        "plt.xticks(rotation=90)\n",
        "\n",
        "plt.suptitle(\"Categorical variables in the Audi used cars dataset\", fontsize=20, y=1.04, fontweight=700)\n",
        "\n",
        "plt.tight_layout(h_pad=1.8)\n",
        "plt.show()"
      ],
      "execution_count": 271,
      "outputs": [
        {
          "output_type": "display_data",
          "data": {
            "image/png": "[encoded data removed]",
            "text/plain": [
              "<Figure size 1296x936 with 4 Axes>"
            ]
          },
          "metadata": {
            "tags": [],
            "needs_background": "light"
          }
        }
      ]
    }
  ]
}