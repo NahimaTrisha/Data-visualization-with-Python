{
  "nbformat": 4,
  "nbformat_minor": 0,
  "metadata": {
    "colab": {
      "name": "audi_used_car_EDA.ipynb",
      "provenance": [],
      "mount_file_id": "1TZsPVcc3jAfGAW6L8uPJDCYEOLGBKkve",
      "authorship_tag": "ABX9TyOgKP/bZxTnxdGUjSFgVnzY",
      "include_colab_link": true
    },
    "kernelspec": {
      "name": "python3",
      "display_name": "Python 3"
    },
    "language_info": {
      "name": "python"
    }
  },
  "cells": [
    {
      "cell_type": "markdown",
      "metadata": {
        "id": "view-in-github",
        "colab_type": "text"
      },
      "source": [
        "<a href=\"https://colab.research.google.com/github/NahimaTrisha/Data-visualization-with-Python/blob/main/audi_used_car_EDA.ipynb\" target=\"_parent\"><img src=\"https://colab.research.google.com/assets/colab-badge.svg\" alt=\"Open In Colab\"/></a>"
      ]
    },
    {
      "cell_type": "code",
      "metadata": {
        "id": "g8SUOq4C3cwZ"
      },
      "source": [
        "import pandas as pd\n",
        "import numpy as np\n",
        "import matplotlib.pyplot as plt\n",
        "import seaborn as sns"
      ],
      "execution_count": 211,
      "outputs": []
    },
    {
      "cell_type": "code",
      "metadata": {
        "colab": {
          "base_uri": "https://localhost:8080/",
          "height": 204
        },
        "id": "sxSkxreY3zcX",
        "outputId": "ce83cb93-f0f0-41ca-b225-6d7cac30957f"
      },
      "source": [
        "df=pd.read_csv('/content/drive/MyDrive/Dataset/audi.csv')\n",
        "df.head()"
      ],
      "execution_count": 212,
      "outputs": [
        {
          "output_type": "execute_result",
          "data": {
            "text/html": [
              "<div>\n",
              "<style scoped>\n",
              "    .dataframe tbody tr th:only-of-type {\n",
              "        vertical-align: middle;\n",
              "    }\n",
              "\n",
              "    .dataframe tbody tr th {\n",
              "        vertical-align: top;\n",
              "    }\n",
              "\n",
              "    .dataframe thead th {\n",
              "        text-align: right;\n",
              "    }\n",
              "</style>\n",
              "<table border=\"1\" class=\"dataframe\">\n",
              "  <thead>\n",
              "    <tr style=\"text-align: right;\">\n",
              "      <th></th>\n",
              "      <th>model</th>\n",
              "      <th>year</th>\n",
              "      <th>price</th>\n",
              "      <th>transmission</th>\n",
              "      <th>mileage</th>\n",
              "      <th>fuelType</th>\n",
              "      <th>mpg</th>\n",
              "      <th>engineSize</th>\n",
              "    </tr>\n",
              "  </thead>\n",
              "  <tbody>\n",
              "    <tr>\n",
              "      <th>0</th>\n",
              "      <td>A1</td>\n",
              "      <td>2017</td>\n",
              "      <td>12500</td>\n",
              "      <td>Manual</td>\n",
              "      <td>15735</td>\n",
              "      <td>Petrol</td>\n",
              "      <td>55.4</td>\n",
              "      <td>1.4</td>\n",
              "    </tr>\n",
              "    <tr>\n",
              "      <th>1</th>\n",
              "      <td>A6</td>\n",
              "      <td>2016</td>\n",
              "      <td>16500</td>\n",
              "      <td>Automatic</td>\n",
              "      <td>36203</td>\n",
              "      <td>Diesel</td>\n",
              "      <td>64.2</td>\n",
              "      <td>2.0</td>\n",
              "    </tr>\n",
              "    <tr>\n",
              "      <th>2</th>\n",
              "      <td>A1</td>\n",
              "      <td>2016</td>\n",
              "      <td>11000</td>\n",
              "      <td>Manual</td>\n",
              "      <td>29946</td>\n",
              "      <td>Petrol</td>\n",
              "      <td>55.4</td>\n",
              "      <td>1.4</td>\n",
              "    </tr>\n",
              "    <tr>\n",
              "      <th>3</th>\n",
              "      <td>A4</td>\n",
              "      <td>2017</td>\n",
              "      <td>16800</td>\n",
              "      <td>Automatic</td>\n",
              "      <td>25952</td>\n",
              "      <td>Diesel</td>\n",
              "      <td>67.3</td>\n",
              "      <td>2.0</td>\n",
              "    </tr>\n",
              "    <tr>\n",
              "      <th>4</th>\n",
              "      <td>A3</td>\n",
              "      <td>2019</td>\n",
              "      <td>17300</td>\n",
              "      <td>Manual</td>\n",
              "      <td>1998</td>\n",
              "      <td>Petrol</td>\n",
              "      <td>49.6</td>\n",
              "      <td>1.0</td>\n",
              "    </tr>\n",
              "  </tbody>\n",
              "</table>\n",
              "</div>"
            ],
            "text/plain": [
              "  model  year  price transmission  mileage fuelType   mpg  engineSize\n",
              "0    A1  2017  12500       Manual    15735   Petrol  55.4         1.4\n",
              "1    A6  2016  16500    Automatic    36203   Diesel  64.2         2.0\n",
              "2    A1  2016  11000       Manual    29946   Petrol  55.4         1.4\n",
              "3    A4  2017  16800    Automatic    25952   Diesel  67.3         2.0\n",
              "4    A3  2019  17300       Manual     1998   Petrol  49.6         1.0"
            ]
          },
          "metadata": {
            "tags": []
          },
          "execution_count": 212
        }
      ]
    },
    {
      "cell_type": "code",
      "metadata": {
        "colab": {
          "base_uri": "https://localhost:8080/"
        },
        "id": "Bt6q15hQ38El",
        "outputId": "3fd319f3-d50f-4220-bbeb-e5a26bc78423"
      },
      "source": [
        "df.info()"
      ],
      "execution_count": 213,
      "outputs": [
        {
          "output_type": "stream",
          "text": [
            "<class 'pandas.core.frame.DataFrame'>\n",
            "RangeIndex: 10668 entries, 0 to 10667\n",
            "Data columns (total 8 columns):\n",
            " #   Column        Non-Null Count  Dtype  \n",
            "---  ------        --------------  -----  \n",
            " 0   model         10668 non-null  object \n",
            " 1   year          10668 non-null  int64  \n",
            " 2   price         10668 non-null  int64  \n",
            " 3   transmission  10668 non-null  object \n",
            " 4   mileage       10668 non-null  int64  \n",
            " 5   fuelType      10668 non-null  object \n",
            " 6   mpg           10668 non-null  float64\n",
            " 7   engineSize    10668 non-null  float64\n",
            "dtypes: float64(2), int64(3), object(3)\n",
            "memory usage: 666.9+ KB\n"
          ],
          "name": "stdout"
        }
      ]
    },
    {
      "cell_type": "code",
      "metadata": {
        "colab": {
          "base_uri": "https://localhost:8080/"
        },
        "id": "jDQVFrEE4JzU",
        "outputId": "35d5a27e-8004-4279-a580-2fbbe17025ad"
      },
      "source": [
        "df.shape"
      ],
      "execution_count": 214,
      "outputs": [
        {
          "output_type": "execute_result",
          "data": {
            "text/plain": [
              "(10668, 8)"
            ]
          },
          "metadata": {
            "tags": []
          },
          "execution_count": 214
        }
      ]
    },
    {
      "cell_type": "code",
      "metadata": {
        "colab": {
          "base_uri": "https://localhost:8080/"
        },
        "id": "Zfg-15XC4Kch",
        "outputId": "f39f5922-16cc-4948-a778-8960c7186153"
      },
      "source": [
        "df.isnull().sum()"
      ],
      "execution_count": 215,
      "outputs": [
        {
          "output_type": "execute_result",
          "data": {
            "text/plain": [
              "model           0\n",
              "year            0\n",
              "price           0\n",
              "transmission    0\n",
              "mileage         0\n",
              "fuelType        0\n",
              "mpg             0\n",
              "engineSize      0\n",
              "dtype: int64"
            ]
          },
          "metadata": {
            "tags": []
          },
          "execution_count": 215
        }
      ]
    },
    {
      "cell_type": "code",
      "metadata": {
        "colab": {
          "base_uri": "https://localhost:8080/"
        },
        "id": "ErcNy4Ba53w7",
        "outputId": "ec898ac2-81a1-4c23-b553-fc3e997cd6de"
      },
      "source": [
        "df[\"year\"].value_counts()"
      ],
      "execution_count": 216,
      "outputs": [
        {
          "output_type": "execute_result",
          "data": {
            "text/plain": [
              "2019    3197\n",
              "2016    1964\n",
              "2017    1935\n",
              "2015     999\n",
              "2018     864\n",
              "2020     716\n",
              "2014     447\n",
              "2013     291\n",
              "2012      85\n",
              "2011      47\n",
              "2010      32\n",
              "2009      23\n",
              "2008      21\n",
              "2007      16\n",
              "2006       9\n",
              "2005       7\n",
              "2003       6\n",
              "2004       5\n",
              "2002       2\n",
              "1997       1\n",
              "1998       1\n",
              "Name: year, dtype: int64"
            ]
          },
          "metadata": {
            "tags": []
          },
          "execution_count": 216
        }
      ]
    },
    {
      "cell_type": "code",
      "metadata": {
        "colab": {
          "base_uri": "https://localhost:8080/"
        },
        "id": "bLZhhmQJ59v_",
        "outputId": "bca578a7-e697-44b8-edc0-a50e36fae526"
      },
      "source": [
        "df[\"model\"].value_counts()"
      ],
      "execution_count": 217,
      "outputs": [
        {
          "output_type": "execute_result",
          "data": {
            "text/plain": [
              " A3     1929\n",
              " Q3     1417\n",
              " A4     1381\n",
              " A1     1347\n",
              " A5      882\n",
              " Q5      877\n",
              " Q2      822\n",
              " A6      748\n",
              " Q7      397\n",
              " TT      336\n",
              " A7      122\n",
              " A8      118\n",
              " Q8       69\n",
              " RS6      39\n",
              " RS3      33\n",
              " RS4      31\n",
              " RS5      29\n",
              " R8       28\n",
              " S3       18\n",
              " SQ5      16\n",
              " S4       12\n",
              " SQ7       8\n",
              " S8        4\n",
              " S5        3\n",
              " A2        1\n",
              " RS7       1\n",
              "Name: model, dtype: int64"
            ]
          },
          "metadata": {
            "tags": []
          },
          "execution_count": 217
        }
      ]
    },
    {
      "cell_type": "code",
      "metadata": {
        "colab": {
          "base_uri": "https://localhost:8080/"
        },
        "id": "Gl1HnGm76AB4",
        "outputId": "0b1b5aba-ca7f-48e8-9b04-7d4f5b5f68c4"
      },
      "source": [
        "df['transmission'].value_counts()"
      ],
      "execution_count": 218,
      "outputs": [
        {
          "output_type": "execute_result",
          "data": {
            "text/plain": [
              "Manual       4369\n",
              "Semi-Auto    3591\n",
              "Automatic    2708\n",
              "Name: transmission, dtype: int64"
            ]
          },
          "metadata": {
            "tags": []
          },
          "execution_count": 218
        }
      ]
    },
    {
      "cell_type": "code",
      "metadata": {
        "colab": {
          "base_uri": "https://localhost:8080/"
        },
        "id": "JGHMSR6T6QA0",
        "outputId": "0db95779-dac2-4b3a-f8d7-581546cf1d47"
      },
      "source": [
        "df['fuelType'].value_counts()"
      ],
      "execution_count": 219,
      "outputs": [
        {
          "output_type": "execute_result",
          "data": {
            "text/plain": [
              "Diesel    5577\n",
              "Petrol    5063\n",
              "Hybrid      28\n",
              "Name: fuelType, dtype: int64"
            ]
          },
          "metadata": {
            "tags": []
          },
          "execution_count": 219
        }
      ]
    },
    {
      "cell_type": "code",
      "metadata": {
        "colab": {
          "base_uri": "https://localhost:8080/",
          "height": 142
        },
        "id": "2sqZgxg76jFO",
        "outputId": "b3cee5a5-58f4-4a39-8a97-142b05b5e455"
      },
      "source": [
        "fuelType_count = df['fuelType'].value_counts()\n",
        "\n",
        "fuelType_count = pd.DataFrame(fuelType_count)\n",
        "\n",
        "fuelType_count = fuelType_count.reset_index()\n",
        "\n",
        "fuelType_count = fuelType_count.rename(columns={'index':'fuel_type', 'fuelType':'No_of_cars'})\n",
        "\n",
        "\n",
        "fuelType_count['% of cars'] = np.round(((fuelType_count['No_of_cars']/fuelType_count['No_of_cars'].sum())*100))\n",
        "display(fuelType_count)\n",
        "\n"
      ],
      "execution_count": 220,
      "outputs": [
        {
          "output_type": "display_data",
          "data": {
            "text/html": [
              "<div>\n",
              "<style scoped>\n",
              "    .dataframe tbody tr th:only-of-type {\n",
              "        vertical-align: middle;\n",
              "    }\n",
              "\n",
              "    .dataframe tbody tr th {\n",
              "        vertical-align: top;\n",
              "    }\n",
              "\n",
              "    .dataframe thead th {\n",
              "        text-align: right;\n",
              "    }\n",
              "</style>\n",
              "<table border=\"1\" class=\"dataframe\">\n",
              "  <thead>\n",
              "    <tr style=\"text-align: right;\">\n",
              "      <th></th>\n",
              "      <th>fuel_type</th>\n",
              "      <th>No_of_cars</th>\n",
              "      <th>% of cars</th>\n",
              "    </tr>\n",
              "  </thead>\n",
              "  <tbody>\n",
              "    <tr>\n",
              "      <th>0</th>\n",
              "      <td>Diesel</td>\n",
              "      <td>5577</td>\n",
              "      <td>52.0</td>\n",
              "    </tr>\n",
              "    <tr>\n",
              "      <th>1</th>\n",
              "      <td>Petrol</td>\n",
              "      <td>5063</td>\n",
              "      <td>47.0</td>\n",
              "    </tr>\n",
              "    <tr>\n",
              "      <th>2</th>\n",
              "      <td>Hybrid</td>\n",
              "      <td>28</td>\n",
              "      <td>0.0</td>\n",
              "    </tr>\n",
              "  </tbody>\n",
              "</table>\n",
              "</div>"
            ],
            "text/plain": [
              "  fuel_type  No_of_cars  % of cars\n",
              "0    Diesel        5577       52.0\n",
              "1    Petrol        5063       47.0\n",
              "2    Hybrid          28        0.0"
            ]
          },
          "metadata": {
            "tags": []
          }
        }
      ]
    },
    {
      "cell_type": "code",
      "metadata": {
        "colab": {
          "base_uri": "https://localhost:8080/",
          "height": 348
        },
        "id": "Wpp_Ef3c-7Yu",
        "outputId": "cd426d74-2c1b-468b-a1e1-3690dd0d38f9"
      },
      "source": [
        "plt.figure(figsize=(8,5))\n",
        "sns.barplot(x='fuel_type', y='No_of_cars', data=fuelType_count, color='green', alpha=0.75)\n",
        "plt.title(\"Number of cars present for each fuelType\")\n",
        "plt.xlabel(\"Type of fuel\")\n",
        "plt.ylabel(\"Number of cars\")\n",
        "plt.show()"
      ],
      "execution_count": 221,
      "outputs": [
        {
          "output_type": "display_data",
          "data": {
            "image/png": "[encoded data removed]",
            "text/plain": [
              "<Figure size 576x360 with 1 Axes>"
            ]
          },
          "metadata": {
            "tags": [],
            "needs_background": "light"
          }
        }
      ]
    },
    {
      "cell_type": "code",
      "metadata": {
        "colab": {
          "base_uri": "https://localhost:8080/",
          "height": 142
        },
        "id": "fyB9cbJl_Pq-",
        "outputId": "dfbfb2fa-35df-4fcf-96e4-d350e84f2fa5"
      },
      "source": [
        "transmission_count = df['transmission'].value_counts()\n",
        "\n",
        "transmission_count = pd.DataFrame(transmission_count)\n",
        "\n",
        "transmission_count = transmission_count.reset_index()\n",
        "\n",
        "transmission_count = transmission_count.rename(columns={'index':'transmission', 'transmission':'No_of_cars'})\n",
        "\n",
        "transmission_count['% of cars'] = np.round(((transmission_count['No_of_cars']/transmission_count['No_of_cars'].sum())*100), 2)\n",
        "display(transmission_count)"
      ],
      "execution_count": 222,
      "outputs": [
        {
          "output_type": "display_data",
          "data": {
            "text/html": [
              "<div>\n",
              "<style scoped>\n",
              "    .dataframe tbody tr th:only-of-type {\n",
              "        vertical-align: middle;\n",
              "    }\n",
              "\n",
              "    .dataframe tbody tr th {\n",
              "        vertical-align: top;\n",
              "    }\n",
              "\n",
              "    .dataframe thead th {\n",
              "        text-align: right;\n",
              "    }\n",
              "</style>\n",
              "<table border=\"1\" class=\"dataframe\">\n",
              "  <thead>\n",
              "    <tr style=\"text-align: right;\">\n",
              "      <th></th>\n",
              "      <th>transmission</th>\n",
              "      <th>No_of_cars</th>\n",
              "      <th>% of cars</th>\n",
              "    </tr>\n",
              "  </thead>\n",
              "  <tbody>\n",
              "    <tr>\n",
              "      <th>0</th>\n",
              "      <td>Manual</td>\n",
              "      <td>4369</td>\n",
              "      <td>40.95</td>\n",
              "    </tr>\n",
              "    <tr>\n",
              "      <th>1</th>\n",
              "      <td>Semi-Auto</td>\n",
              "      <td>3591</td>\n",
              "      <td>33.66</td>\n",
              "    </tr>\n",
              "    <tr>\n",
              "      <th>2</th>\n",
              "      <td>Automatic</td>\n",
              "      <td>2708</td>\n",
              "      <td>25.38</td>\n",
              "    </tr>\n",
              "  </tbody>\n",
              "</table>\n",
              "</div>"
            ],
            "text/plain": [
              "  transmission  No_of_cars  % of cars\n",
              "0       Manual        4369      40.95\n",
              "1    Semi-Auto        3591      33.66\n",
              "2    Automatic        2708      25.38"
            ]
          },
          "metadata": {
            "tags": []
          }
        }
      ]
    },
    {
      "cell_type": "code",
      "metadata": {
        "colab": {
          "base_uri": "https://localhost:8080/",
          "height": 348
        },
        "id": "I2hvxO8U_m1-",
        "outputId": "364dc52d-9066-41f0-a59b-55e9d4fd3711"
      },
      "source": [
        "plt.figure(figsize=(8,5))\n",
        "sns.barplot(x='transmission', y='No_of_cars', data=transmission_count, color='red', alpha=0.75)\n",
        "plt.title(\"Number of cars present for each transmission type\")\n",
        "plt.xlabel(\"Type of transmission\")\n",
        "plt.ylabel(\"Number of cars\")\n",
        "plt.show()"
      ],
      "execution_count": 223,
      "outputs": [
        {
          "output_type": "display_data",
          "data": {
            "image/png": "[encoded data removed]",
            "text/plain": [
              "<Figure size 576x360 with 1 Axes>"
            ]
          },
          "metadata": {
            "tags": [],
            "needs_background": "light"
          }
        }
      ]
    },
    {
      "cell_type": "code",
      "metadata": {
        "colab": {
          "base_uri": "https://localhost:8080/",
          "height": 855
        },
        "id": "AI8vQWZh_z9v",
        "outputId": "cccc6257-fb0b-4da7-f841-1910953dd421"
      },
      "source": [
        "model_count = df['model'].value_counts()\n",
        "\n",
        "model_count = pd.DataFrame(model_count)\n",
        "\n",
        "model_count = model_count.reset_index()\n",
        "\n",
        "model_count = model_count.rename(columns={'index':'model', 'model':'No_of_cars'})\n",
        "\n",
        "model_count['% of cars'] = np.round(((model_count['No_of_cars']/model_count['No_of_cars'].sum())*100), 2)\n",
        "display(model_count)"
      ],
      "execution_count": 224,
      "outputs": [
        {
          "output_type": "display_data",
          "data": {
            "text/html": [
              "<div>\n",
              "<style scoped>\n",
              "    .dataframe tbody tr th:only-of-type {\n",
              "        vertical-align: middle;\n",
              "    }\n",
              "\n",
              "    .dataframe tbody tr th {\n",
              "        vertical-align: top;\n",
              "    }\n",
              "\n",
              "    .dataframe thead th {\n",
              "        text-align: right;\n",
              "    }\n",
              "</style>\n",
              "<table border=\"1\" class=\"dataframe\">\n",
              "  <thead>\n",
              "    <tr style=\"text-align: right;\">\n",
              "      <th></th>\n",
              "      <th>model</th>\n",
              "      <th>No_of_cars</th>\n",
              "      <th>% of cars</th>\n",
              "    </tr>\n",
              "  </thead>\n",
              "  <tbody>\n",
              "    <tr>\n",
              "      <th>0</th>\n",
              "      <td>A3</td>\n",
              "      <td>1929</td>\n",
              "      <td>18.08</td>\n",
              "    </tr>\n",
              "    <tr>\n",
              "      <th>1</th>\n",
              "      <td>Q3</td>\n",
              "      <td>1417</td>\n",
              "      <td>13.28</td>\n",
              "    </tr>\n",
              "    <tr>\n",
              "      <th>2</th>\n",
              "      <td>A4</td>\n",
              "      <td>1381</td>\n",
              "      <td>12.95</td>\n",
              "    </tr>\n",
              "    <tr>\n",
              "      <th>3</th>\n",
              "      <td>A1</td>\n",
              "      <td>1347</td>\n",
              "      <td>12.63</td>\n",
              "    </tr>\n",
              "    <tr>\n",
              "      <th>4</th>\n",
              "      <td>A5</td>\n",
              "      <td>882</td>\n",
              "      <td>8.27</td>\n",
              "    </tr>\n",
              "    <tr>\n",
              "      <th>5</th>\n",
              "      <td>Q5</td>\n",
              "      <td>877</td>\n",
              "      <td>8.22</td>\n",
              "    </tr>\n",
              "    <tr>\n",
              "      <th>6</th>\n",
              "      <td>Q2</td>\n",
              "      <td>822</td>\n",
              "      <td>7.71</td>\n",
              "    </tr>\n",
              "    <tr>\n",
              "      <th>7</th>\n",
              "      <td>A6</td>\n",
              "      <td>748</td>\n",
              "      <td>7.01</td>\n",
              "    </tr>\n",
              "    <tr>\n",
              "      <th>8</th>\n",
              "      <td>Q7</td>\n",
              "      <td>397</td>\n",
              "      <td>3.72</td>\n",
              "    </tr>\n",
              "    <tr>\n",
              "      <th>9</th>\n",
              "      <td>TT</td>\n",
              "      <td>336</td>\n",
              "      <td>3.15</td>\n",
              "    </tr>\n",
              "    <tr>\n",
              "      <th>10</th>\n",
              "      <td>A7</td>\n",
              "      <td>122</td>\n",
              "      <td>1.14</td>\n",
              "    </tr>\n",
              "    <tr>\n",
              "      <th>11</th>\n",
              "      <td>A8</td>\n",
              "      <td>118</td>\n",
              "      <td>1.11</td>\n",
              "    </tr>\n",
              "    <tr>\n",
              "      <th>12</th>\n",
              "      <td>Q8</td>\n",
              "      <td>69</td>\n",
              "      <td>0.65</td>\n",
              "    </tr>\n",
              "    <tr>\n",
              "      <th>13</th>\n",
              "      <td>RS6</td>\n",
              "      <td>39</td>\n",
              "      <td>0.37</td>\n",
              "    </tr>\n",
              "    <tr>\n",
              "      <th>14</th>\n",
              "      <td>RS3</td>\n",
              "      <td>33</td>\n",
              "      <td>0.31</td>\n",
              "    </tr>\n",
              "    <tr>\n",
              "      <th>15</th>\n",
              "      <td>RS4</td>\n",
              "      <td>31</td>\n",
              "      <td>0.29</td>\n",
              "    </tr>\n",
              "    <tr>\n",
              "      <th>16</th>\n",
              "      <td>RS5</td>\n",
              "      <td>29</td>\n",
              "      <td>0.27</td>\n",
              "    </tr>\n",
              "    <tr>\n",
              "      <th>17</th>\n",
              "      <td>R8</td>\n",
              "      <td>28</td>\n",
              "      <td>0.26</td>\n",
              "    </tr>\n",
              "    <tr>\n",
              "      <th>18</th>\n",
              "      <td>S3</td>\n",
              "      <td>18</td>\n",
              "      <td>0.17</td>\n",
              "    </tr>\n",
              "    <tr>\n",
              "      <th>19</th>\n",
              "      <td>SQ5</td>\n",
              "      <td>16</td>\n",
              "      <td>0.15</td>\n",
              "    </tr>\n",
              "    <tr>\n",
              "      <th>20</th>\n",
              "      <td>S4</td>\n",
              "      <td>12</td>\n",
              "      <td>0.11</td>\n",
              "    </tr>\n",
              "    <tr>\n",
              "      <th>21</th>\n",
              "      <td>SQ7</td>\n",
              "      <td>8</td>\n",
              "      <td>0.07</td>\n",
              "    </tr>\n",
              "    <tr>\n",
              "      <th>22</th>\n",
              "      <td>S8</td>\n",
              "      <td>4</td>\n",
              "      <td>0.04</td>\n",
              "    </tr>\n",
              "    <tr>\n",
              "      <th>23</th>\n",
              "      <td>S5</td>\n",
              "      <td>3</td>\n",
              "      <td>0.03</td>\n",
              "    </tr>\n",
              "    <tr>\n",
              "      <th>24</th>\n",
              "      <td>A2</td>\n",
              "      <td>1</td>\n",
              "      <td>0.01</td>\n",
              "    </tr>\n",
              "    <tr>\n",
              "      <th>25</th>\n",
              "      <td>RS7</td>\n",
              "      <td>1</td>\n",
              "      <td>0.01</td>\n",
              "    </tr>\n",
              "  </tbody>\n",
              "</table>\n",
              "</div>"
            ],
            "text/plain": [
              "   model  No_of_cars  % of cars\n",
              "0     A3        1929      18.08\n",
              "1     Q3        1417      13.28\n",
              "2     A4        1381      12.95\n",
              "3     A1        1347      12.63\n",
              "4     A5         882       8.27\n",
              "5     Q5         877       8.22\n",
              "6     Q2         822       7.71\n",
              "7     A6         748       7.01\n",
              "8     Q7         397       3.72\n",
              "9     TT         336       3.15\n",
              "10    A7         122       1.14\n",
              "11    A8         118       1.11\n",
              "12    Q8          69       0.65\n",
              "13   RS6          39       0.37\n",
              "14   RS3          33       0.31\n",
              "15   RS4          31       0.29\n",
              "16   RS5          29       0.27\n",
              "17    R8          28       0.26\n",
              "18    S3          18       0.17\n",
              "19   SQ5          16       0.15\n",
              "20    S4          12       0.11\n",
              "21   SQ7           8       0.07\n",
              "22    S8           4       0.04\n",
              "23    S5           3       0.03\n",
              "24    A2           1       0.01\n",
              "25   RS7           1       0.01"
            ]
          },
          "metadata": {
            "tags": []
          }
        }
      ]
    },
    {
      "cell_type": "code",
      "metadata": {
        "colab": {
          "base_uri": "https://localhost:8080/",
          "height": 360
        },
        "id": "UhC5YwYk_7F4",
        "outputId": "513106aa-2afc-479e-c30f-04c856c748ae"
      },
      "source": [
        "plt.figure(figsize=(10,5))\n",
        "sns.barplot(x='model', y='No_of_cars', data=model_count, color='blue', alpha=0.75)\n",
        "plt.title(\"Number of cars present for each model\")\n",
        "plt.xlabel(\"BMW car models\")\n",
        "plt.ylabel(\"Number of cars\")\n",
        "plt.xticks(rotation=90)\n",
        "plt.show()"
      ],
      "execution_count": 225,
      "outputs": [
        {
          "output_type": "display_data",
          "data": {
            "image/png": "[encoded data removed]",
            "text/plain": [
              "<Figure size 720x360 with 1 Axes>"
            ]
          },
          "metadata": {
            "tags": [],
            "needs_background": "light"
          }
        }
      ]
    },
    {
      "cell_type": "code",
      "metadata": {
        "colab": {
          "base_uri": "https://localhost:8080/",
          "height": 382
        },
        "id": "kGJCFDlUAgx9",
        "outputId": "fa1bf82d-5706-47ea-a8a5-3f04f7de37ec"
      },
      "source": [
        "sns.set_context('paper')\n",
        "\n",
        "plt.figure(figsize=(20,5))\n",
        "\n",
        "plt.subplot(1,3,1)\n",
        "sns.barplot(x='model', y='% of cars', data=model_count, color='blue', alpha=0.75)\n",
        "plt.title(\"Number of cars present for each model\")\n",
        "plt.xlabel(\"BMW car models\")\n",
        "plt.ylabel(\"Percent of cars (%)\")\n",
        "plt.xticks(rotation=90)\n",
        "plt.yticks(np.arange(0,101,10).tolist())\n",
        "\n",
        "plt.subplot(1,3,2)\n",
        "sns.barplot(x='transmission', y='% of cars', data=transmission_count, color='orange')\n",
        "plt.title(\"Number of cars present for each transmission type\")\n",
        "plt.xlabel(\"Type of transmission\")\n",
        "plt.ylabel(\"Percent of cars (%)\")\n",
        "plt.yticks(np.arange(0,101,10).tolist())\n",
        "\n",
        "plt.subplot(1,3,3)\n",
        "sns.barplot(x='fuel_type', y='% of cars', data=fuelType_count, color='green', alpha=0.75)\n",
        "plt.title(\"Number of cars present for each fuelType\")\n",
        "plt.xlabel(\"Type of fuel\")\n",
        "plt.ylabel(\"Percent of cars (%)\")\n",
        "plt.yticks(np.arange(0,101,10).tolist())\n",
        "\n",
        "plt.suptitle(\"Categorical variables in the audi used cars dataset\")\n",
        "#plt.tight_layout()\n",
        "plt.show()"
      ],
      "execution_count": 244,
      "outputs": [
        {
          "output_type": "display_data",
          "data": {
            "image/png": "[encoded data removed]",
            "text/plain": [
              "<Figure size 1440x360 with 3 Axes>"
            ]
          },
          "metadata": {
            "tags": [],
            "needs_background": "light"
          }
        }
      ]
    }
  ]
}